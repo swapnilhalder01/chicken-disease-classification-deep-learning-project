{
 "cells": [
  {
   "cell_type": "code",
   "execution_count": 1,
   "id": "b0650f9b",
   "metadata": {},
   "outputs": [],
   "source": [
    "import os"
   ]
  },
  {
   "cell_type": "code",
   "execution_count": 2,
   "id": "d8873a80",
   "metadata": {},
   "outputs": [
    {
     "data": {
      "text/plain": [
       "'d:\\\\chicken-disease-classification-deep-learning-project\\\\research'"
      ]
     },
     "execution_count": 2,
     "metadata": {},
     "output_type": "execute_result"
    }
   ],
   "source": [
    "pwd"
   ]
  },
  {
   "cell_type": "code",
   "execution_count": 3,
   "id": "aa4c1ce2",
   "metadata": {},
   "outputs": [],
   "source": [
    "os.chdir(\"../\")"
   ]
  },
  {
   "cell_type": "code",
   "execution_count": 4,
   "id": "a2da220f",
   "metadata": {},
   "outputs": [
    {
     "data": {
      "text/plain": [
       "'d:\\\\chicken-disease-classification-deep-learning-project'"
      ]
     },
     "execution_count": 4,
     "metadata": {},
     "output_type": "execute_result"
    }
   ],
   "source": [
    "pwd"
   ]
  },
  {
   "cell_type": "code",
   "execution_count": 5,
   "id": "5a959d58",
   "metadata": {},
   "outputs": [],
   "source": [
    "import tensorflow as tf"
   ]
  },
  {
   "cell_type": "code",
   "execution_count": 6,
   "id": "6884328d",
   "metadata": {},
   "outputs": [],
   "source": [
    "model = tf.keras.models.load_model(\"artifacts/training/model.h5\")"
   ]
  },
  {
   "cell_type": "code",
   "execution_count": 7,
   "id": "49d0942f",
   "metadata": {},
   "outputs": [],
   "source": [
    "from dataclasses import dataclass\n",
    "from pathlib import Path\n",
    "\n",
    "\n",
    "@dataclass(frozen=True)\n",
    "class EvaluationConfig:\n",
    "    path_of_model: Path\n",
    "    training_data: Path\n",
    "    all_params: dict\n",
    "    params_image_size: list\n",
    "    params_batch_size: int"
   ]
  },
  {
   "cell_type": "code",
   "execution_count": 8,
   "id": "30c8e672",
   "metadata": {},
   "outputs": [],
   "source": [
    "from cnnClassifier.constants import *\n",
    "from cnnClassifier.utils.common import read_yaml, create_directories, save_json"
   ]
  },
  {
   "cell_type": "code",
   "execution_count": 9,
   "id": "7d997abc",
   "metadata": {},
   "outputs": [],
   "source": [
    "class ConfigurationManager:\n",
    "    def __init__(\n",
    "        self, \n",
    "        config_filepath = CONFIG_FILE_PATH,\n",
    "        params_filepath = PARAMS_FILE_PATH):\n",
    "        self.config = read_yaml(config_filepath)\n",
    "        self.params = read_yaml(params_filepath)\n",
    "        create_directories([self.config.artifacts_root])\n",
    "\n",
    "    \n",
    "    def get_validation_config(self) -> EvaluationConfig:\n",
    "        eval_config = EvaluationConfig(\n",
    "            path_of_model=\"artifacts/training/model.h5\",\n",
    "            training_data=\"artifacts/data_ingestion/Chicken-fecal-images\",\n",
    "            all_params=self.params,\n",
    "            params_image_size=self.params.IMAGE_SIZE,\n",
    "            params_batch_size=self.params.BATCH_SIZE\n",
    "        )\n",
    "        return eval_config"
   ]
  },
  {
   "cell_type": "code",
   "execution_count": 10,
   "id": "105c4a08",
   "metadata": {},
   "outputs": [],
   "source": [
    "from urllib.parse import urlparse"
   ]
  },
  {
   "cell_type": "code",
   "execution_count": 20,
   "id": "f3299c27",
   "metadata": {},
   "outputs": [],
   "source": [
    "class Evaluation:\n",
    "    def __init__(self, config: EvaluationConfig):\n",
    "        self.config = config\n",
    "\n",
    "    \n",
    "    def _valid_generator(self):\n",
    "\n",
    "        datagenerator_kwargs = dict(\n",
    "            rescale = 1./255,\n",
    "            validation_split=0.30\n",
    "        )\n",
    "\n",
    "        dataflow_kwargs = dict(\n",
    "            target_size=self.config.params_image_size[:-1],\n",
    "            batch_size=self.config.params_batch_size,\n",
    "            interpolation=\"bilinear\"\n",
    "        )\n",
    "\n",
    "        valid_datagenerator = tf.keras.preprocessing.image.ImageDataGenerator(\n",
    "            **datagenerator_kwargs\n",
    "        )\n",
    "\n",
    "        self.valid_generator = valid_datagenerator.flow_from_directory(\n",
    "            directory=self.config.training_data,\n",
    "            subset=\"validation\",\n",
    "            shuffle=False,\n",
    "            **dataflow_kwargs\n",
    "        )\n",
    "\n",
    "    \n",
    "    @staticmethod\n",
    "    def load_model(path: Path) -> tf.keras.Model:\n",
    "        return tf.keras.models.load_model(path)\n",
    "    \n",
    "\n",
    "    def evaluation(self):\n",
    "        self.model = self.load_model(self.config.path_of_model)\n",
    "        self._valid_generator()\n",
    "        self.score = model.evaluate(self.valid_generator)\n",
    "\n",
    "    \n",
    "    def save_score(self):\n",
    "        scores1 = {\"loss\": self.score[0], \"accuracy\": self.score[1]}\n",
    "        save_json(path=Path(\"scores.json\"), data=scores1)\n"
   ]
  },
  {
   "cell_type": "code",
   "execution_count": 21,
   "id": "f40bf32b",
   "metadata": {},
   "outputs": [],
   "source": [
    "import numpy as np\n",
    "import tensorflow as tf\n",
    "from sklearn.metrics import confusion_matrix, accuracy_score, precision_score, recall_score, f1_score, classification_report\n",
    "from sklearn.model_selection import train_test_split\n",
    "\n",
    "def evaluate_on_test_split(model_path: str, data_dir: str, image_size: list, batch_size: int):\n",
    "    datagen = tf.keras.preprocessing.image.ImageDataGenerator(rescale=1./255, validation_split=0.3)\n",
    "\n",
    "    # Load the validation split (30% of the data)\n",
    "    val_gen = datagen.flow_from_directory(\n",
    "        directory=data_dir,\n",
    "        subset=\"validation\",\n",
    "        target_size=image_size[:-1],\n",
    "        batch_size=32,\n",
    "        shuffle=False\n",
    "    )\n",
    "\n",
    "    # Collect all images and labels\n",
    "    x_data, y_data = [], []\n",
    "    for i in range(len(val_gen)):\n",
    "        x_batch, y_batch = val_gen[i]\n",
    "        x_data.extend(x_batch)\n",
    "        y_data.extend(y_batch)\n",
    "        if len(x_data) >= val_gen.samples:\n",
    "            break\n",
    "\n",
    "    x_data = np.array(x_data)\n",
    "    y_data = np.array(y_data)\n",
    "\n",
    "    # Convert labels from one-hot to integers for stratification\n",
    "    y_labels = np.argmax(y_data, axis=1)\n",
    "\n",
    "    # Proper stratified split to ensure balanced test set\n",
    "    x_test, _, y_test, _ = train_test_split(\n",
    "        x_data, y_data, test_size=0.3, stratify=y_labels, random_state=42\n",
    "    )\n",
    "\n",
    "    # Load model and evaluate\n",
    "    model = tf.keras.models.load_model(model_path)\n",
    "    test_loss, test_acc = model.evaluate(x_test, y_test, batch_size=batch_size)\n",
    "\n",
    "    print(f\"\\n🧪 Test Evaluation Results\")\n",
    "    print(f\"-------------------------\")\n",
    "    print(f\"Test Loss     : {test_loss:.4f}\")\n",
    "    print(f\"Test Accuracy : {test_acc:.4f}\")\n",
    "\n",
    "    # Predictions\n",
    "    y_pred_probs = model.predict(x_test, batch_size=batch_size)\n",
    "    y_pred = np.argmax(y_pred_probs, axis=1)\n",
    "    y_true = np.argmax(y_test, axis=1)\n",
    "\n",
    "    # Metrics\n",
    "    cm = confusion_matrix(y_true, y_pred)\n",
    "    accuracy = accuracy_score(y_true, y_pred)\n",
    "    precision = precision_score(y_true, y_pred, average='macro', zero_division=0)\n",
    "    recall = recall_score(y_true, y_pred, average='macro', zero_division=0)\n",
    "    f1 = f1_score(y_true, y_pred, average='macro', zero_division=0)\n",
    "\n",
    "    print(\"\\n📊 Confusion Matrix:\")\n",
    "    print(cm)\n",
    "\n",
    "    print(f\"\\n🔹 Accuracy : {accuracy:.4f}\")\n",
    "    print(f\"🔹 Precision: {precision:.4f}\")\n",
    "    print(f\"🔹 Recall   : {recall:.4f}\")\n",
    "    print(f\"🔹 F1 Score : {f1:.4f}\")\n",
    "\n",
    "    print(\"\\n📋 Classification Report:\")\n",
    "    print(classification_report(y_true, y_pred, digits=4, zero_division=0))\n"
   ]
  },
  {
   "cell_type": "code",
   "execution_count": 22,
   "id": "3c712f16",
   "metadata": {},
   "outputs": [
    {
     "name": "stdout",
     "output_type": "stream",
     "text": [
      "[2025-05-27 23:35:25,065: INFO: common: yaml file: config\\config.yaml loaded successfully]\n",
      "[2025-05-27 23:35:25,072: INFO: common: yaml file: params.yaml loaded successfully]\n",
      "[2025-05-27 23:35:25,073: INFO: common: created directory at: artifacts]\n",
      "Found 116 images belonging to 2 classes.\n",
      "8/8 [==============================] - 34s 4s/step - loss: 0.9579 - accuracy: 0.9224\n",
      "[2025-05-27 23:35:59,812: INFO: common: json file saved at: scores.json]\n",
      "Found 116 images belonging to 2 classes.\n",
      "6/6 [==============================] - 26s 4s/step - loss: 0.9384 - accuracy: 0.9259\n",
      "\n",
      "🧪 Test Evaluation Results\n",
      "-------------------------\n",
      "Test Loss     : 0.9384\n",
      "Test Accuracy : 0.9259\n",
      "6/6 [==============================] - 29s 5s/step\n",
      "\n",
      "📊 Confusion Matrix:\n",
      "[[34  6]\n",
      " [ 0 41]]\n",
      "\n",
      "🔹 Accuracy : 0.9259\n",
      "🔹 Precision: 0.9362\n",
      "🔹 Recall   : 0.9250\n",
      "🔹 F1 Score : 0.9254\n",
      "\n",
      "📋 Classification Report:\n",
      "              precision    recall  f1-score   support\n",
      "\n",
      "           0     1.0000    0.8500    0.9189        40\n",
      "           1     0.8723    1.0000    0.9318        41\n",
      "\n",
      "    accuracy                         0.9259        81\n",
      "   macro avg     0.9362    0.9250    0.9254        81\n",
      "weighted avg     0.9354    0.9259    0.9254        81\n",
      "\n"
     ]
    }
   ],
   "source": [
    "try:\n",
    "    config = ConfigurationManager()\n",
    "    val_config = config.get_validation_config()\n",
    "    evaluation = Evaluation(val_config)\n",
    "    evaluation.evaluation()\n",
    "    evaluation.save_score()\n",
    "\n",
    "except Exception as e:\n",
    "   raise e\n",
    "\n",
    "evaluate_on_test_split(\n",
    "    model_path=\"artifacts/training/model.h5\",\n",
    "    data_dir=\"artifacts/data_ingestion/Chicken-fecal-images\",\n",
    "    image_size=val_config.params_image_size,\n",
    "    batch_size=val_config.params_batch_size\n",
    ")\n"
   ]
  },
  {
   "cell_type": "code",
   "execution_count": null,
   "id": "c7e72440",
   "metadata": {},
   "outputs": [],
   "source": []
  }
 ],
 "metadata": {
  "kernelspec": {
   "display_name": "chicken",
   "language": "python",
   "name": "python3"
  },
  "language_info": {
   "codemirror_mode": {
    "name": "ipython",
    "version": 3
   },
   "file_extension": ".py",
   "mimetype": "text/x-python",
   "name": "python",
   "nbconvert_exporter": "python",
   "pygments_lexer": "ipython3",
   "version": "3.8.20"
  }
 },
 "nbformat": 4,
 "nbformat_minor": 5
}
